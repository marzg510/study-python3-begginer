{
 "cells": [
  {
   "cell_type": "markdown",
   "metadata": {},
   "source": [
    "# 5.5.3 OrderedDict()によるキー順のソート\n"
   ]
  },
  {
   "cell_type": "code",
   "execution_count": 1,
   "metadata": {},
   "outputs": [
    {
     "name": "stdout",
     "output_type": "stream",
     "text": [
      "Moe\n",
      "Larry\n",
      "Curly\n"
     ]
    }
   ],
   "source": [
    "quotes = {\n",
    "    'Moe': 'A wise guy, huh?',\n",
    "    'Larry': 'Ow!',\n",
    "    'Curly': 'Nyuk nyuk!',\n",
    "}\n",
    "for stooge in quotes:\n",
    "    print(stooge)"
   ]
  },
  {
   "cell_type": "code",
   "execution_count": 4,
   "metadata": {},
   "outputs": [
    {
     "name": "stdout",
     "output_type": "stream",
     "text": [
      "Moe\n",
      "Larry\n",
      "Curly\n"
     ]
    }
   ],
   "source": [
    "from collections import OrderedDict\n",
    "quotes = OrderedDict([\n",
    "    ('Moe', 'A wise guy, huh?'),\n",
    "    ('Larry', 'Ow!'),\n",
    "    ('Curly', 'Nyuk nyuk!'),\n",
    "])\n",
    "for stooge in quotes:\n",
    "    print(stooge)"
   ]
  },
  {
   "cell_type": "code",
   "execution_count": null,
   "metadata": {
    "collapsed": true
   },
   "outputs": [],
   "source": []
  }
 ],
 "metadata": {
  "kernelspec": {
   "display_name": "Python 3",
   "language": "python",
   "name": "python3"
  },
  "language_info": {
   "codemirror_mode": {
    "name": "ipython",
    "version": 3
   },
   "file_extension": ".py",
   "mimetype": "text/x-python",
   "name": "python",
   "nbconvert_exporter": "python",
   "pygments_lexer": "ipython3",
   "version": "3.6.1"
  }
 },
 "nbformat": 4,
 "nbformat_minor": 2
}
